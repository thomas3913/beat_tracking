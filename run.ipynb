{
 "cells": [
  {
   "cell_type": "code",
   "execution_count": 1,
   "metadata": {},
   "outputs": [
    {
     "name": "stderr",
     "output_type": "stream",
     "text": [
      "/home/thomass/miniconda3/envs/env_02/lib/python3.8/site-packages/tqdm/auto.py:22: TqdmWarning: IProgress not found. Please update jupyter and ipywidgets. See https://ipywidgets.readthedocs.io/en/stable/user_install.html\n",
      "  from .autonotebook import tqdm as notebook_tqdm\n"
     ]
    }
   ],
   "source": [
    "from beat_tracking.models import my_madmom, RNNJointBeatProcessor\n",
    "from beat_tracking.data_loading import get_midi_filelist, get_pianoroll_dataset, get_dataloader\n",
    "import pandas as pd\n",
    "from torch.utils.data import Dataset, DataLoader\n",
    "import pretty_midi as pm\n",
    "import mir_eval\n",
    "import numpy as np\n",
    "\n",
    "AMAPS, AMAPS_path_dict = get_midi_filelist([\"AMAPS\"])\n",
    "CPM, CPM_path_dict = get_midi_filelist([\"CPM\"])\n",
    "ASAP, ASAP_path_dict = get_midi_filelist([\"ASAP\"])\n",
    "\n",
    "df2 = pd.read_csv(\"metadata.csv\")\n",
    "all_datasets, all_datasets_path_dict = get_midi_filelist([\"ASAP\",\"CPM\",\"AMAPS\"])"
   ]
  },
  {
   "cell_type": "code",
   "execution_count": 2,
   "metadata": {},
   "outputs": [
    {
     "name": "stdout",
     "output_type": "stream",
     "text": [
      "Lengths of training loaders: 932 169 268\n",
      "Lengths of validation loaders: 105 15 40\n",
      "Lengths of test loaders: 0 29 0\n"
     ]
    }
   ],
   "source": [
    "# Dataloaders:\n",
    "train_loader_asap = get_dataloader(get_pianoroll_dataset(ASAP,ASAP_path_dict),\"train\",shuffle=True)\n",
    "train_loader_amaps = get_dataloader(get_pianoroll_dataset(AMAPS,AMAPS_path_dict),\"train\",shuffle=True)\n",
    "train_loader_cpm = get_dataloader(get_pianoroll_dataset(CPM,CPM_path_dict),\"train\",shuffle=True)\n",
    "val_loader_asap = get_dataloader(get_pianoroll_dataset(ASAP,ASAP_path_dict),\"val\",shuffle=False)\n",
    "val_loader_amaps = get_dataloader(get_pianoroll_dataset(AMAPS,AMAPS_path_dict),\"val\",shuffle=False)\n",
    "val_loader_cpm = get_dataloader(get_pianoroll_dataset(CPM,CPM_path_dict),\"val\",shuffle=False)\n",
    "test_loader_asap = get_dataloader(get_pianoroll_dataset(ASAP,ASAP_path_dict),\"test\",shuffle=False)\n",
    "test_loader_amaps = get_dataloader(get_pianoroll_dataset(AMAPS,AMAPS_path_dict),\"test\",shuffle=False)\n",
    "test_loader_cpm = get_dataloader(get_pianoroll_dataset(CPM,CPM_path_dict),\"test\",shuffle=False)\n",
    "\n",
    "print(\"Lengths of training loaders:\",len(train_loader_asap),len(train_loader_amaps),len(train_loader_cpm))\n",
    "print(\"Lengths of validation loaders:\",len(val_loader_asap),len(val_loader_amaps),len(val_loader_cpm))\n",
    "print(\"Lengths of test loaders:\",len(test_loader_asap),len(test_loader_amaps),len(test_loader_cpm))"
   ]
  },
  {
   "cell_type": "code",
   "execution_count": 3,
   "metadata": {},
   "outputs": [],
   "source": [
    "def evaluate(dataset,split):\n",
    "    processor = RNNJointBeatProcessor()\n",
    "    name = \"scores_\" + str(dataset)\n",
    "    scores = []\n",
    "    strr = split+\"_loader_\"+dataset\n",
    "    for i,element in enumerate(globals()[strr]):\n",
    "        beats_pred = processor.process(element[4][0])\n",
    "        #if dataset == \"asap\":\n",
    "        #    annotation_file = element[4][0][:-4]+\"_annotations.txt\"\n",
    "        #    beats_targ = beat_list_to_array(annotation_file,\"annotations\",\"beats\")\n",
    "        #else:\n",
    "        #    midi_data = pm.PrettyMIDI(element[4][0])\n",
    "        #    beats_targ = midi_data.get_beats()\n",
    "        beats_targ = element[1]\n",
    "        beats_pred_trimmed = mir_eval.beat.trim_beats(beats_pred)\n",
    "        beats_targ_trimmed = mir_eval.beat.trim_beats(beats_targ)\n",
    "        f1 = mir_eval.beat.f_measure(beats_targ_trimmed, beats_pred_trimmed)\n",
    "        scores.append(f1)\n",
    "        if i%10 == 0:\n",
    "            print(i,element[4][0],f1)\n",
    "    return scores"
   ]
  },
  {
   "cell_type": "code",
   "execution_count": 4,
   "metadata": {},
   "outputs": [
    {
     "name": "stdout",
     "output_type": "stream",
     "text": [
      "0 data/A-MAPS_1.2/MAPS_MUS-alb_se4_AkPnBsdf.mid 0.983751846381093\n",
      "10 data/A-MAPS_1.2/MAPS_MUS-scn16_5_SptkBGAm.mid 0.9625984251968505\n",
      "Summary: 0.9540315488367525\n"
     ]
    }
   ],
   "source": [
    "amaps_val_scores = evaluate(\"amaps\",\"val\")\n",
    "print(\"Summary:\",np.sum(amaps_val_scores)/len(amaps_val_scores))"
   ]
  },
  {
   "cell_type": "code",
   "execution_count": 5,
   "metadata": {},
   "outputs": [
    {
     "name": "stdout",
     "output_type": "stream",
     "text": [
      "0 data/Piano-MIDI/midis/Albeniz/alb_se4.mid 0.970674486803519\n",
      "10 data/Piano-MIDI/midis/Chopin/chpn-p22.mid 0.9444444444444444\n",
      "20 data/Piano-MIDI/midis/Haydn/hay_40_2.mid 0.9771986970684038\n",
      "30 data/Piano-MIDI/midis/Rachmaninoff/rac_op23_5.mid 0.9878048780487805\n",
      "Summary: 0.947501809948422\n"
     ]
    }
   ],
   "source": [
    "cpm_val_scores = evaluate(\"cpm\",\"val\")\n",
    "print(\"Summary:\",np.sum(cpm_val_scores)/len(cpm_val_scores))"
   ]
  },
  {
   "cell_type": "code",
   "execution_count": 6,
   "metadata": {},
   "outputs": [
    {
     "name": "stdout",
     "output_type": "stream",
     "text": [
      "0 data/asap-dataset/Bach/Fugue/bwv_858/VuV01M.mid 0.9657794676806084\n",
      "10 data/asap-dataset/Bach/Prelude/bwv_856/LuoJ01M.mid 0.8085106382978724\n",
      "20 data/asap-dataset/Beethoven/Piano_Sonatas/16-1/Woo01.mid 0.8963855421686747\n",
      "30 data/asap-dataset/Beethoven/Piano_Sonatas/21-1_no_repeat/LeeN02M.mid 0.8443548387096773\n",
      "40 data/asap-dataset/Beethoven/Piano_Sonatas/21-1_no_repeat/Sychev01.mid 0.8302180685358256\n",
      "50 data/asap-dataset/Beethoven/Piano_Sonatas/26-1/HuNY02M.mid 0.8783204798628963\n",
      "60 data/asap-dataset/Beethoven/Piano_Sonatas/29-4/ChowK05M.mid 0.7755261106780982\n",
      "70 data/asap-dataset/Chopin/Etudes_op_10/12/Mordvinov04.mid 0.6878612716763006\n",
      "80 data/asap-dataset/Chopin/Etudes_op_25/12/KWON03.mid 0.7\n",
      "90 data/asap-dataset/Schubert/Impromptu_op.90_D.899/3/Hou06M.mid 0.8869047619047619\n",
      "100 data/asap-dataset/Schubert/Impromptu_op.90_D.899/3/ZhangW07M.mid 0.7439198855507868\n",
      "Summary: 0.8393444068058197\n"
     ]
    }
   ],
   "source": [
    "asap_val_scores = evaluate(\"asap\",\"val\")\n",
    "print(\"Summary:\",np.sum(asap_val_scores)/len(asap_val_scores))"
   ]
  }
 ],
 "metadata": {
  "kernelspec": {
   "display_name": "env_02",
   "language": "python",
   "name": "python3"
  },
  "language_info": {
   "codemirror_mode": {
    "name": "ipython",
    "version": 3
   },
   "file_extension": ".py",
   "mimetype": "text/x-python",
   "name": "python",
   "nbconvert_exporter": "python",
   "pygments_lexer": "ipython3",
   "version": "3.8.16"
  },
  "orig_nbformat": 4
 },
 "nbformat": 4,
 "nbformat_minor": 2
}
